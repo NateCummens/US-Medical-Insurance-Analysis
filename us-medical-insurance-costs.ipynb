{
 "cells": [
  {
   "cell_type": "markdown",
   "metadata": {},
   "source": [
    "# U.S. Medical Insurance Costs"
   ]
  },
  {
   "cell_type": "raw",
   "metadata": {},
   "source": [
    "First data analysis project:\n",
    "    I will be taking data from US Medical Insurance Costs and be analysing it to determine different statistics about it"
   ]
  },
  {
   "cell_type": "code",
   "execution_count": 1,
   "metadata": {},
   "outputs": [],
   "source": [
    "import csv"
   ]
  },
  {
   "cell_type": "markdown",
   "metadata": {},
   "source": [
    "there are 7 fields in the data file for:  \n",
    "* age  \n",
    "* sex  \n",
    "* bmi  \n",
    "* number of children  \n",
    "* smoker status  \n",
    "* region  \n",
    "* insurance charges  \n",
    " "
   ]
  },
  {
   "cell_type": "code",
   "execution_count": 2,
   "metadata": {},
   "outputs": [],
   "source": [
    "#create empty list to store data for analysis\n",
    "age = []\n",
    "sex = []\n",
    "bmi = []\n",
    "num_children = []\n",
    "smoker = []\n",
    "region = []\n",
    "insurance_cost = []\n"
   ]
  },
  {
   "cell_type": "code",
   "execution_count": 3,
   "metadata": {},
   "outputs": [],
   "source": [
    "def medical_list_data(lst, csv_file, column):\n",
    "    with open('insurance.csv') as csv_info:\n",
    "        csv_dict = csv.DictReader(csv_info)\n",
    "        for row in csv_dict:\n",
    "            lst.append(row[column])\n",
    "            \n",
    "def merge_data(age, sex, bmi, num_children, smoker, region, insurance_cost):\n",
    "    info_list = []\n",
    "    info_dict = {}\n",
    "    for ind in range(len(age)):\n",
    "        info_list.append({\"Age\": age[ind], \"Sex\": sex[ind], \"BMI\": bmi[ind], \"Number of Children\": num_children[ind], \"Smoker\": smoker[ind], \"Region\": region[ind], \"Insurance Charges\": insurance_cost[ind]})\n",
    "    return info_list\n"
   ]
  },
  {
   "cell_type": "code",
   "execution_count": 4,
   "metadata": {
    "scrolled": false
   },
   "outputs": [],
   "source": [
    "medical_list_data(age, \"insurance.csv\", \"age\")\n",
    "medical_list_data(sex, \"insurance.csv\", \"sex\")\n",
    "medical_list_data(bmi, \"insurance.csv\", \"bmi\")\n",
    "medical_list_data(num_children, \"insurance.csv\", \"children\")\n",
    "medical_list_data(smoker, \"insurance.csv\", \"smoker\")\n",
    "medical_list_data(region, \"insurance.csv\", \"region\")\n",
    "medical_list_data(insurance_cost, \"insurance.csv\", \"charges\")\n",
    "\n",
    "# print(merge_data(age, sex, bmi, num_children, smoker, region, insurance_cost))\n",
    "medical_data_dict = merge_data(age, sex, bmi, num_children, smoker, region, insurance_cost)\n"
   ]
  },
  {
   "cell_type": "code",
   "execution_count": null,
   "metadata": {},
   "outputs": [],
   "source": []
  },
  {
   "cell_type": "code",
   "execution_count": 5,
   "metadata": {
    "scrolled": true
   },
   "outputs": [],
   "source": [
    "def findAverage(lst):\n",
    "    average = 0\n",
    "    for item in lst:\n",
    "        average += float(item) \n",
    "    return average / len(lst)\n",
    "\n",
    "        \n",
    "def num_per_region(regions):\n",
    "    region_dict = {}\n",
    "    for region in regions:\n",
    "        if region in region_dict.keys():\n",
    "            region_dict[region] += 1\n",
    "        else:\n",
    "            region_dict[region] = 1\n",
    "    return region_dict\n",
    "\n",
    "\n",
    "def count_of_smokers(smoker_status):\n",
    "    smoker_dict = {\"Smoker\": 0, \"Non-Smoker\": 0}\n",
    "    for status in smoker_status:\n",
    "        if status.lower() == 'yes':\n",
    "            smoker_dict[\"Smoker\"] += 1\n",
    "        else:\n",
    "            smoker_dict[\"Non-Smoker\"] +=1\n",
    "    return smoker_dict\n",
    "\n",
    "\n",
    "def count_of_sexes(sexes):\n",
    "    sex_dict = {\"Male\": 0, \"Female\": 0}\n",
    "    for sex in sexes:\n",
    "        if sex == \"male\":\n",
    "            sex_dict[\"Male\"] += 1\n",
    "        elif sex == \"female\":\n",
    "            sex_dict[\"Female\"] +=1\n",
    "    return sex_dict\n",
    "\n",
    "\n",
    "#determine average cost by age group\n",
    "def average_cost_by_age_groups(medical_data):\n",
    "    average_cost_age_dict = {\"18-35\": 0, \"36-55\": 0, \"56 and older\": 0 }\n",
    "    num_young_adult= 0\n",
    "    num_middle_age = 0\n",
    "    num_senior = 0\n",
    "    for data in medical_data:\n",
    "        data_age = int(data[\"Age\"])\n",
    "        data_insurance = float(data[\"Insurance Charges\"])\n",
    "        if data_age >= 18 and data_age <= 35:\n",
    "            average_cost_age_dict[\"18-35\"] += data_insurance\n",
    "            num_young_adult +=1\n",
    "        elif data_age >= 36 and data_age <=55:\n",
    "            average_cost_age_dict[\"36-55\"] += data_insurance\n",
    "            num_middle_age += 1\n",
    "        elif data_age > 55:\n",
    "            average_cost_age_dict[\"56 and older\"] += data_insurance\n",
    "            num_senior +=1\n",
    "    average_cost_age_dict[\"18-35\"] /= num_young_adult\n",
    "    average_cost_age_dict[\"36-55\"] /= num_middle_age\n",
    "    average_cost_age_dict[\"56 and older\"] /= num_senior\n",
    "    return average_cost_age_dict\n",
    "\n",
    "    \n",
    "#determine average cost by sex\n",
    "def average_cost_by_sex(medical_data):\n",
    "    average_cost_sex = {\"Male\": 0, \"Female\": 0}\n",
    "    num_male = 0\n",
    "    num_female = 0\n",
    "    for data in medical_data:\n",
    "        data_sex = data[\"Sex\"]\n",
    "        data_insurance = float(data[\"Insurance Charges\"])\n",
    "        if data_sex == \"male\":\n",
    "            average_cost_sex[\"Male\"] += data_insurance\n",
    "            num_male += 1\n",
    "        elif data_sex == \"female\":\n",
    "            average_cost_sex[\"Female\"] += data_insurance\n",
    "            num_female += 1\n",
    "    average_cost_sex[\"Male\"] /= num_male\n",
    "    average_cost_sex[\"Female\"] /= num_female\n",
    "    return average_cost_sex\n",
    "\n",
    "\n",
    "# determine average cost by region\n",
    "def average_cost_by_region(medical_data):\n",
    "    average_cost_region = {\"Southwest\": 0, \"Southeast\": 0, \"Northwest\": 0, \"Northeast\": 0}\n",
    "    num_sw = 0\n",
    "    num_se = 0\n",
    "    num_nw = 0\n",
    "    num_ne = 0\n",
    "    for data in medical_data:\n",
    "        data_region = data[\"Region\"]\n",
    "        data_insurance = float(data[\"Insurance Charges\"])\n",
    "        if data_region == \"southwest\":\n",
    "            average_cost_region[\"Southwest\"] += data_insurance\n",
    "            num_sw += 1\n",
    "        elif data_region == \"southeast\":\n",
    "            average_cost_region[\"Southeast\"] += data_insurance\n",
    "            num_se += 1\n",
    "        elif data_region == \"northwest\":\n",
    "            average_cost_region[\"Northwest\"] += data_insurance\n",
    "            num_nw += 1\n",
    "        elif data_region == \"northeast\":\n",
    "            average_cost_region[\"Northeast\"] += data_insurance\n",
    "            num_ne += 1\n",
    "    average_cost_region[\"Southwest\"] /= num_sw\n",
    "    average_cost_region[\"Southeast\"] /= num_se\n",
    "    average_cost_region[\"Northwest\"] /= num_nw\n",
    "    average_cost_region[\"Northeast\"] /= num_ne\n",
    "    return average_cost_region\n",
    "\n",
    "\n",
    "    "
   ]
  },
  {
   "cell_type": "code",
   "execution_count": 8,
   "metadata": {
    "scrolled": true
   },
   "outputs": [
    {
     "name": "stdout",
     "output_type": "stream",
     "text": [
      "The average age is 39\n",
      "\n",
      "The average BMI is 30.663396860986538\n",
      "\n",
      "The average number of children is 1\n",
      "\n",
      "The average cost of insurance is 13270.422265141257\n",
      "\n",
      "Number of people per region {'southwest': 325, 'southeast': 364, 'northwest': 325, 'northeast': 324}\n",
      "\n",
      "Amount of people who are smokers vs non-smokers: {'Smoker': 274, 'Non-Smoker': 1064}\n",
      "\n",
      "Amount of Males vs Females: {'Male': 676, 'Female': 662}\n",
      "\n",
      "Average cost by age group: {'18-35': 9744.478281339718, '36-55': 14785.693053029197, '56 and older': 18795.993815787024}\n",
      "\n",
      "Average cost by sex: {'Male': 13956.751177721886, 'Female': 12569.57884383534}\n",
      "\n",
      "Average cost by region: {'Southwest': 12346.93737729231, 'Southeast': 14735.411437609895, 'Northwest': 12417.575373969228, 'Northeast': 13406.3845163858}\n"
     ]
    }
   ],
   "source": [
    "print(\"The average age is {}\".format(str(int(findAverage(age)))))\n",
    "print()\n",
    "print(\"The average BMI is {}\".format(str(findAverage(bmi))))\n",
    "print()\n",
    "print(\"The average number of children is {}\".format(str(int(findAverage(num_children)))))\n",
    "print()\n",
    "print(\"The average cost of insurance is {}\".format(str(findAverage(insurance_cost))))\n",
    "print()\n",
    "print(\"Number of people per region {}\".format(num_per_region(region)))\n",
    "print()\n",
    "print(\"Amount of people who are smokers vs non-smokers: {}\".format(count_of_smokers(smoker)))\n",
    "print()\n",
    "print(\"Amount of Males vs Females: {}\".format(count_of_sexes(sex)))\n",
    "print()\n",
    "print(\"Average cost by age group: {}\".format(average_cost_by_age_groups(medical_data_dict)))\n",
    "print()\n",
    "print(\"Average cost by sex: {}\".format(average_cost_by_sex(medical_data_dict)))\n",
    "print()\n",
    "print(\"Average cost by region: {}\".format(average_cost_by_region(medical_data_dict)))"
   ]
  },
  {
   "cell_type": "code",
   "execution_count": null,
   "metadata": {},
   "outputs": [],
   "source": []
  }
 ],
 "metadata": {
  "kernelspec": {
   "display_name": "Python 3",
   "language": "python",
   "name": "python3"
  },
  "language_info": {
   "codemirror_mode": {
    "name": "ipython",
    "version": 3
   },
   "file_extension": ".py",
   "mimetype": "text/x-python",
   "name": "python",
   "nbconvert_exporter": "python",
   "pygments_lexer": "ipython3",
   "version": "3.7.4"
  }
 },
 "nbformat": 4,
 "nbformat_minor": 4
}
